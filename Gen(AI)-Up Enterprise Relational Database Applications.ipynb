{
 "cells": [
  {
   "cell_type": "markdown",
   "metadata": {
    "id": "C5SwRvvKJvcz"
   },
   "source": [
    "# Gen(AI)-Up Enterprise Relational Database Applications\n",
    "---"
   ]
  },
  {
   "cell_type": "markdown",
   "metadata": {
    "id": "_GhFgSOldCvV"
   },
   "source": [
    "## Tremendous upside for System Integrators\n",
    "\n",
    "System Integrators (SIs) will enter into a booming upgrade-cycle to **Gen(AI)-Up** the Enterprises' legacy, relational-database driven applications, while application development itself will undergo a paradiam shift with LLM-augmentations. \n",
    "\n",
    "\n",
    "## Do you have a beach toy set that teaches numbers and letters to kids, between \\$10-50?\n",
    "\n",
    "Demonstrated below, please note the two parts of  \"Do you have a beach toy set that teaches numbers and letters to kids\" and \"between \\$10-50?\" in the user query.\n",
    "\n",
    "In essence, **fuse GenAI/LLM with relational databases.**\n",
    "\n",
    "## Overview \n",
    "\n",
    "The following uses **Google stack of technology (PaLM)** for demonstration along with LangChain and pgvector.\n",
    "\n",
    "1. It will understand and respond to human language queries about the relational data stored in a PostgreSQL database.\n",
    "2. We will use \"Creative Prompt\" to generate new marketing content based on the same similarity-search idea of existing products.  \n"
   ]
  },
  {
   "cell_type": "markdown",
   "metadata": {
    "id": "DS7GdlJ1XowY"
   },
   "source": [
    "## Example \n",
    "\n",
    "Your client is a toys-store. In fact, the company not only sell toys, it also offers OEM/3rd-party sellers to advertise their products. \n",
    "\n",
    "Therefore, two use-cases:\n",
    "1. For shoppers: describe their needs in simple English text, along with regular filters (like price, etc.)\n",
    "2. For sellers: LLM-powered, content generation feature, to auto-generate item description suggestions for products.\n",
    "\n",
    "Dataset:\n",
    "- The dataset for this notebook has been sampled and created from a larger public retail dataset available at [Kaggle](https://www.kaggle.com/datasets/promptcloud/walmart-product-details-2020). The sampled dataset used in this notebook has only about 800 toy products, while the public dataset has over 370,000 products in different categories."
   ]
  },
  {
   "cell_type": "markdown",
   "metadata": {
    "id": "_nqImIYGf-yG"
   },
   "source": [
    "## Step 0: Getting Started\n",
    "\n",
    "### Install requisites"
   ]
  },
  {
   "cell_type": "code",
   "execution_count": 1,
   "metadata": {
    "id": "jI_1BhMx3iX0",
    "tags": []
   },
   "outputs": [
    {
     "name": "stdout",
     "output_type": "stream",
     "text": [
      "Requirement already satisfied: asyncio==3.4.3 in /opt/conda/lib/python3.10/site-packages (3.4.3)\n",
      "Requirement already satisfied: asyncpg==0.27.0 in /opt/conda/lib/python3.10/site-packages (0.27.0)\n",
      "Requirement already satisfied: cloud-sql-python-connector==1.2.3 in /opt/conda/lib/python3.10/site-packages (from cloud-sql-python-connector[asyncpg]==1.2.3) (1.2.3)\n",
      "Requirement already satisfied: aiohttp in /opt/conda/lib/python3.10/site-packages (from cloud-sql-python-connector==1.2.3->cloud-sql-python-connector[asyncpg]==1.2.3) (3.9.3)\n",
      "Requirement already satisfied: cryptography>=38.0.3 in /opt/conda/lib/python3.10/site-packages (from cloud-sql-python-connector==1.2.3->cloud-sql-python-connector[asyncpg]==1.2.3) (42.0.5)\n",
      "Requirement already satisfied: Requests in /opt/conda/lib/python3.10/site-packages (from cloud-sql-python-connector==1.2.3->cloud-sql-python-connector[asyncpg]==1.2.3) (2.31.0)\n",
      "Requirement already satisfied: google-auth in /opt/conda/lib/python3.10/site-packages (from cloud-sql-python-connector==1.2.3->cloud-sql-python-connector[asyncpg]==1.2.3) (2.29.0)\n",
      "Requirement already satisfied: cffi>=1.12 in /opt/conda/lib/python3.10/site-packages (from cryptography>=38.0.3->cloud-sql-python-connector==1.2.3->cloud-sql-python-connector[asyncpg]==1.2.3) (1.16.0)\n",
      "Requirement already satisfied: aiosignal>=1.1.2 in /opt/conda/lib/python3.10/site-packages (from aiohttp->cloud-sql-python-connector==1.2.3->cloud-sql-python-connector[asyncpg]==1.2.3) (1.3.1)\n",
      "Requirement already satisfied: attrs>=17.3.0 in /opt/conda/lib/python3.10/site-packages (from aiohttp->cloud-sql-python-connector==1.2.3->cloud-sql-python-connector[asyncpg]==1.2.3) (23.2.0)\n",
      "Requirement already satisfied: frozenlist>=1.1.1 in /opt/conda/lib/python3.10/site-packages (from aiohttp->cloud-sql-python-connector==1.2.3->cloud-sql-python-connector[asyncpg]==1.2.3) (1.4.1)\n",
      "Requirement already satisfied: multidict<7.0,>=4.5 in /opt/conda/lib/python3.10/site-packages (from aiohttp->cloud-sql-python-connector==1.2.3->cloud-sql-python-connector[asyncpg]==1.2.3) (6.0.5)\n",
      "Requirement already satisfied: yarl<2.0,>=1.0 in /opt/conda/lib/python3.10/site-packages (from aiohttp->cloud-sql-python-connector==1.2.3->cloud-sql-python-connector[asyncpg]==1.2.3) (1.9.4)\n",
      "Requirement already satisfied: async-timeout<5.0,>=4.0 in /opt/conda/lib/python3.10/site-packages (from aiohttp->cloud-sql-python-connector==1.2.3->cloud-sql-python-connector[asyncpg]==1.2.3) (4.0.3)\n",
      "Requirement already satisfied: cachetools<6.0,>=2.0.0 in /opt/conda/lib/python3.10/site-packages (from google-auth->cloud-sql-python-connector==1.2.3->cloud-sql-python-connector[asyncpg]==1.2.3) (4.2.4)\n",
      "Requirement already satisfied: pyasn1-modules>=0.2.1 in /opt/conda/lib/python3.10/site-packages (from google-auth->cloud-sql-python-connector==1.2.3->cloud-sql-python-connector[asyncpg]==1.2.3) (0.4.0)\n",
      "Requirement already satisfied: rsa<5,>=3.1.4 in /opt/conda/lib/python3.10/site-packages (from google-auth->cloud-sql-python-connector==1.2.3->cloud-sql-python-connector[asyncpg]==1.2.3) (4.9)\n",
      "Requirement already satisfied: charset-normalizer<4,>=2 in /opt/conda/lib/python3.10/site-packages (from Requests->cloud-sql-python-connector==1.2.3->cloud-sql-python-connector[asyncpg]==1.2.3) (3.3.2)\n",
      "Requirement already satisfied: idna<4,>=2.5 in /opt/conda/lib/python3.10/site-packages (from Requests->cloud-sql-python-connector==1.2.3->cloud-sql-python-connector[asyncpg]==1.2.3) (3.7)\n",
      "Requirement already satisfied: urllib3<3,>=1.21.1 in /opt/conda/lib/python3.10/site-packages (from Requests->cloud-sql-python-connector==1.2.3->cloud-sql-python-connector[asyncpg]==1.2.3) (1.26.18)\n",
      "Requirement already satisfied: certifi>=2017.4.17 in /opt/conda/lib/python3.10/site-packages (from Requests->cloud-sql-python-connector==1.2.3->cloud-sql-python-connector[asyncpg]==1.2.3) (2024.2.2)\n",
      "Requirement already satisfied: pycparser in /opt/conda/lib/python3.10/site-packages (from cffi>=1.12->cryptography>=38.0.3->cloud-sql-python-connector==1.2.3->cloud-sql-python-connector[asyncpg]==1.2.3) (2.22)\n",
      "Requirement already satisfied: pyasn1<0.7.0,>=0.4.6 in /opt/conda/lib/python3.10/site-packages (from pyasn1-modules>=0.2.1->google-auth->cloud-sql-python-connector==1.2.3->cloud-sql-python-connector[asyncpg]==1.2.3) (0.6.0)\n",
      "Requirement already satisfied: numpy==1.22.4 in /opt/conda/lib/python3.10/site-packages (1.22.4)\n",
      "Requirement already satisfied: pandas==1.5.3 in /opt/conda/lib/python3.10/site-packages (1.5.3)\n",
      "Requirement already satisfied: python-dateutil>=2.8.1 in /opt/conda/lib/python3.10/site-packages (from pandas==1.5.3) (2.9.0)\n",
      "Requirement already satisfied: pytz>=2020.1 in /opt/conda/lib/python3.10/site-packages (from pandas==1.5.3) (2024.1)\n",
      "Requirement already satisfied: six>=1.5 in /opt/conda/lib/python3.10/site-packages (from python-dateutil>=2.8.1->pandas==1.5.3) (1.16.0)\n",
      "Requirement already satisfied: pgvector==0.1.8 in /opt/conda/lib/python3.10/site-packages (0.1.8)\n",
      "Requirement already satisfied: numpy in /opt/conda/lib/python3.10/site-packages (from pgvector==0.1.8) (1.22.4)\n",
      "Requirement already satisfied: langchain==0.0.196 in /opt/conda/lib/python3.10/site-packages (0.0.196)\n",
      "Requirement already satisfied: transformers==4.30.1 in /opt/conda/lib/python3.10/site-packages (4.30.1)\n",
      "Requirement already satisfied: PyYAML>=5.4.1 in /opt/conda/lib/python3.10/site-packages (from langchain==0.0.196) (6.0.1)\n",
      "Requirement already satisfied: SQLAlchemy<3,>=1.4 in /opt/conda/lib/python3.10/site-packages (from langchain==0.0.196) (2.0.29)\n",
      "Requirement already satisfied: aiohttp<4.0.0,>=3.8.3 in /opt/conda/lib/python3.10/site-packages (from langchain==0.0.196) (3.9.3)\n",
      "Requirement already satisfied: async-timeout<5.0.0,>=4.0.0 in /opt/conda/lib/python3.10/site-packages (from langchain==0.0.196) (4.0.3)\n",
      "Requirement already satisfied: dataclasses-json<0.6.0,>=0.5.7 in /opt/conda/lib/python3.10/site-packages (from langchain==0.0.196) (0.5.14)\n",
      "Requirement already satisfied: langchainplus-sdk>=0.0.7 in /opt/conda/lib/python3.10/site-packages (from langchain==0.0.196) (0.0.20)\n",
      "Requirement already satisfied: numexpr<3.0.0,>=2.8.4 in /opt/conda/lib/python3.10/site-packages (from langchain==0.0.196) (2.10.0)\n",
      "Requirement already satisfied: numpy<2,>=1 in /opt/conda/lib/python3.10/site-packages (from langchain==0.0.196) (1.22.4)\n",
      "Requirement already satisfied: openapi-schema-pydantic<2.0,>=1.2 in /opt/conda/lib/python3.10/site-packages (from langchain==0.0.196) (1.2.4)\n",
      "Requirement already satisfied: pydantic<2,>=1 in /opt/conda/lib/python3.10/site-packages (from langchain==0.0.196) (1.10.15)\n",
      "Requirement already satisfied: requests<3,>=2 in /opt/conda/lib/python3.10/site-packages (from langchain==0.0.196) (2.31.0)\n",
      "Requirement already satisfied: tenacity<9.0.0,>=8.1.0 in /opt/conda/lib/python3.10/site-packages (from langchain==0.0.196) (8.2.3)\n",
      "Requirement already satisfied: filelock in /opt/conda/lib/python3.10/site-packages (from transformers==4.30.1) (3.13.4)\n",
      "Requirement already satisfied: huggingface-hub<1.0,>=0.14.1 in /opt/conda/lib/python3.10/site-packages (from transformers==4.30.1) (0.23.0)\n",
      "Requirement already satisfied: packaging>=20.0 in /opt/conda/lib/python3.10/site-packages (from transformers==4.30.1) (24.0)\n",
      "Requirement already satisfied: regex!=2019.12.17 in /opt/conda/lib/python3.10/site-packages (from transformers==4.30.1) (2024.4.16)\n",
      "Requirement already satisfied: tokenizers!=0.11.3,<0.14,>=0.11.1 in /opt/conda/lib/python3.10/site-packages (from transformers==4.30.1) (0.13.3)\n",
      "Requirement already satisfied: safetensors>=0.3.1 in /opt/conda/lib/python3.10/site-packages (from transformers==4.30.1) (0.4.3)\n",
      "Requirement already satisfied: tqdm>=4.27 in /opt/conda/lib/python3.10/site-packages (from transformers==4.30.1) (4.66.2)\n",
      "Requirement already satisfied: aiosignal>=1.1.2 in /opt/conda/lib/python3.10/site-packages (from aiohttp<4.0.0,>=3.8.3->langchain==0.0.196) (1.3.1)\n",
      "Requirement already satisfied: attrs>=17.3.0 in /opt/conda/lib/python3.10/site-packages (from aiohttp<4.0.0,>=3.8.3->langchain==0.0.196) (23.2.0)\n",
      "Requirement already satisfied: frozenlist>=1.1.1 in /opt/conda/lib/python3.10/site-packages (from aiohttp<4.0.0,>=3.8.3->langchain==0.0.196) (1.4.1)\n",
      "Requirement already satisfied: multidict<7.0,>=4.5 in /opt/conda/lib/python3.10/site-packages (from aiohttp<4.0.0,>=3.8.3->langchain==0.0.196) (6.0.5)\n",
      "Requirement already satisfied: yarl<2.0,>=1.0 in /opt/conda/lib/python3.10/site-packages (from aiohttp<4.0.0,>=3.8.3->langchain==0.0.196) (1.9.4)\n",
      "Requirement already satisfied: marshmallow<4.0.0,>=3.18.0 in /opt/conda/lib/python3.10/site-packages (from dataclasses-json<0.6.0,>=0.5.7->langchain==0.0.196) (3.21.2)\n",
      "Requirement already satisfied: typing-inspect<1,>=0.4.0 in /opt/conda/lib/python3.10/site-packages (from dataclasses-json<0.6.0,>=0.5.7->langchain==0.0.196) (0.9.0)\n",
      "Requirement already satisfied: fsspec>=2023.5.0 in /opt/conda/lib/python3.10/site-packages (from huggingface-hub<1.0,>=0.14.1->transformers==4.30.1) (2024.3.1)\n",
      "Requirement already satisfied: typing-extensions>=3.7.4.3 in /opt/conda/lib/python3.10/site-packages (from huggingface-hub<1.0,>=0.14.1->transformers==4.30.1) (4.11.0)\n",
      "Requirement already satisfied: charset-normalizer<4,>=2 in /opt/conda/lib/python3.10/site-packages (from requests<3,>=2->langchain==0.0.196) (3.3.2)\n",
      "Requirement already satisfied: idna<4,>=2.5 in /opt/conda/lib/python3.10/site-packages (from requests<3,>=2->langchain==0.0.196) (3.7)\n",
      "Requirement already satisfied: urllib3<3,>=1.21.1 in /opt/conda/lib/python3.10/site-packages (from requests<3,>=2->langchain==0.0.196) (1.26.18)\n",
      "Requirement already satisfied: certifi>=2017.4.17 in /opt/conda/lib/python3.10/site-packages (from requests<3,>=2->langchain==0.0.196) (2024.2.2)\n",
      "Requirement already satisfied: greenlet!=0.4.17 in /opt/conda/lib/python3.10/site-packages (from SQLAlchemy<3,>=1.4->langchain==0.0.196) (3.0.3)\n",
      "Requirement already satisfied: mypy-extensions>=0.3.0 in /opt/conda/lib/python3.10/site-packages (from typing-inspect<1,>=0.4.0->dataclasses-json<0.6.0,>=0.5.7->langchain==0.0.196) (1.0.0)\n",
      "Requirement already satisfied: google-cloud-aiplatform==1.26.0 in /opt/conda/lib/python3.10/site-packages (1.26.0)\n",
      "Requirement already satisfied: google-api-core!=2.0.*,!=2.1.*,!=2.2.*,!=2.3.*,!=2.4.*,!=2.5.*,!=2.6.*,!=2.7.*,<3.0.0dev,>=1.32.0 in /opt/conda/lib/python3.10/site-packages (from google-api-core[grpc]!=2.0.*,!=2.1.*,!=2.2.*,!=2.3.*,!=2.4.*,!=2.5.*,!=2.6.*,!=2.7.*,<3.0.0dev,>=1.32.0->google-cloud-aiplatform==1.26.0) (1.34.1)\n",
      "Requirement already satisfied: proto-plus<2.0.0dev,>=1.22.0 in /opt/conda/lib/python3.10/site-packages (from google-cloud-aiplatform==1.26.0) (1.23.0)\n",
      "Requirement already satisfied: protobuf!=3.20.0,!=3.20.1,!=4.21.0,!=4.21.1,!=4.21.2,!=4.21.3,!=4.21.4,!=4.21.5,<5.0.0dev,>=3.19.5 in /opt/conda/lib/python3.10/site-packages (from google-cloud-aiplatform==1.26.0) (3.19.6)\n",
      "Requirement already satisfied: packaging>=14.3 in /opt/conda/lib/python3.10/site-packages (from google-cloud-aiplatform==1.26.0) (24.0)\n",
      "Requirement already satisfied: google-cloud-storage<3.0.0dev,>=1.32.0 in /opt/conda/lib/python3.10/site-packages (from google-cloud-aiplatform==1.26.0) (2.14.0)\n",
      "Requirement already satisfied: google-cloud-bigquery<4.0.0dev,>=1.15.0 in /opt/conda/lib/python3.10/site-packages (from google-cloud-aiplatform==1.26.0) (3.21.0)\n",
      "Requirement already satisfied: google-cloud-resource-manager<3.0.0dev,>=1.3.3 in /opt/conda/lib/python3.10/site-packages (from google-cloud-aiplatform==1.26.0) (1.12.3)\n",
      "Requirement already satisfied: shapely<2.0.0 in /opt/conda/lib/python3.10/site-packages (from google-cloud-aiplatform==1.26.0) (1.8.5.post1)\n",
      "Requirement already satisfied: googleapis-common-protos<2.0dev,>=1.56.2 in /opt/conda/lib/python3.10/site-packages (from google-api-core!=2.0.*,!=2.1.*,!=2.2.*,!=2.3.*,!=2.4.*,!=2.5.*,!=2.6.*,!=2.7.*,<3.0.0dev,>=1.32.0->google-api-core[grpc]!=2.0.*,!=2.1.*,!=2.2.*,!=2.3.*,!=2.4.*,!=2.5.*,!=2.6.*,!=2.7.*,<3.0.0dev,>=1.32.0->google-cloud-aiplatform==1.26.0) (1.63.0)\n",
      "Requirement already satisfied: google-auth<3.0dev,>=1.25.0 in /opt/conda/lib/python3.10/site-packages (from google-api-core!=2.0.*,!=2.1.*,!=2.2.*,!=2.3.*,!=2.4.*,!=2.5.*,!=2.6.*,!=2.7.*,<3.0.0dev,>=1.32.0->google-api-core[grpc]!=2.0.*,!=2.1.*,!=2.2.*,!=2.3.*,!=2.4.*,!=2.5.*,!=2.6.*,!=2.7.*,<3.0.0dev,>=1.32.0->google-cloud-aiplatform==1.26.0) (2.29.0)\n",
      "Requirement already satisfied: requests<3.0.0dev,>=2.18.0 in /opt/conda/lib/python3.10/site-packages (from google-api-core!=2.0.*,!=2.1.*,!=2.2.*,!=2.3.*,!=2.4.*,!=2.5.*,!=2.6.*,!=2.7.*,<3.0.0dev,>=1.32.0->google-api-core[grpc]!=2.0.*,!=2.1.*,!=2.2.*,!=2.3.*,!=2.4.*,!=2.5.*,!=2.6.*,!=2.7.*,<3.0.0dev,>=1.32.0->google-cloud-aiplatform==1.26.0) (2.31.0)\n",
      "Requirement already satisfied: grpcio<2.0dev,>=1.33.2 in /opt/conda/lib/python3.10/site-packages (from google-api-core[grpc]!=2.0.*,!=2.1.*,!=2.2.*,!=2.3.*,!=2.4.*,!=2.5.*,!=2.6.*,!=2.7.*,<3.0.0dev,>=1.32.0->google-cloud-aiplatform==1.26.0) (1.48.1)\n",
      "Requirement already satisfied: grpcio-status<2.0dev,>=1.33.2 in /opt/conda/lib/python3.10/site-packages (from google-api-core[grpc]!=2.0.*,!=2.1.*,!=2.2.*,!=2.3.*,!=2.4.*,!=2.5.*,!=2.6.*,!=2.7.*,<3.0.0dev,>=1.32.0->google-cloud-aiplatform==1.26.0) (1.48.1)\n",
      "Requirement already satisfied: google-cloud-core<3.0.0dev,>=1.6.0 in /opt/conda/lib/python3.10/site-packages (from google-cloud-bigquery<4.0.0dev,>=1.15.0->google-cloud-aiplatform==1.26.0) (2.4.1)\n",
      "Requirement already satisfied: google-resumable-media<3.0dev,>=0.6.0 in /opt/conda/lib/python3.10/site-packages (from google-cloud-bigquery<4.0.0dev,>=1.15.0->google-cloud-aiplatform==1.26.0) (2.7.0)\n",
      "Requirement already satisfied: python-dateutil<3.0dev,>=2.7.2 in /opt/conda/lib/python3.10/site-packages (from google-cloud-bigquery<4.0.0dev,>=1.15.0->google-cloud-aiplatform==1.26.0) (2.9.0)\n",
      "Requirement already satisfied: grpc-google-iam-v1<1.0.0dev,>=0.12.4 in /opt/conda/lib/python3.10/site-packages (from google-cloud-resource-manager<3.0.0dev,>=1.3.3->google-cloud-aiplatform==1.26.0) (0.12.7)\n",
      "Requirement already satisfied: google-crc32c<2.0dev,>=1.0 in /opt/conda/lib/python3.10/site-packages (from google-cloud-storage<3.0.0dev,>=1.32.0->google-cloud-aiplatform==1.26.0) (1.5.0)\n",
      "Requirement already satisfied: cachetools<6.0,>=2.0.0 in /opt/conda/lib/python3.10/site-packages (from google-auth<3.0dev,>=1.25.0->google-api-core!=2.0.*,!=2.1.*,!=2.2.*,!=2.3.*,!=2.4.*,!=2.5.*,!=2.6.*,!=2.7.*,<3.0.0dev,>=1.32.0->google-api-core[grpc]!=2.0.*,!=2.1.*,!=2.2.*,!=2.3.*,!=2.4.*,!=2.5.*,!=2.6.*,!=2.7.*,<3.0.0dev,>=1.32.0->google-cloud-aiplatform==1.26.0) (4.2.4)\n",
      "Requirement already satisfied: pyasn1-modules>=0.2.1 in /opt/conda/lib/python3.10/site-packages (from google-auth<3.0dev,>=1.25.0->google-api-core!=2.0.*,!=2.1.*,!=2.2.*,!=2.3.*,!=2.4.*,!=2.5.*,!=2.6.*,!=2.7.*,<3.0.0dev,>=1.32.0->google-api-core[grpc]!=2.0.*,!=2.1.*,!=2.2.*,!=2.3.*,!=2.4.*,!=2.5.*,!=2.6.*,!=2.7.*,<3.0.0dev,>=1.32.0->google-cloud-aiplatform==1.26.0) (0.4.0)\n",
      "Requirement already satisfied: rsa<5,>=3.1.4 in /opt/conda/lib/python3.10/site-packages (from google-auth<3.0dev,>=1.25.0->google-api-core!=2.0.*,!=2.1.*,!=2.2.*,!=2.3.*,!=2.4.*,!=2.5.*,!=2.6.*,!=2.7.*,<3.0.0dev,>=1.32.0->google-api-core[grpc]!=2.0.*,!=2.1.*,!=2.2.*,!=2.3.*,!=2.4.*,!=2.5.*,!=2.6.*,!=2.7.*,<3.0.0dev,>=1.32.0->google-cloud-aiplatform==1.26.0) (4.9)\n",
      "Requirement already satisfied: six>=1.5.2 in /opt/conda/lib/python3.10/site-packages (from grpcio<2.0dev,>=1.33.2->google-api-core[grpc]!=2.0.*,!=2.1.*,!=2.2.*,!=2.3.*,!=2.4.*,!=2.5.*,!=2.6.*,!=2.7.*,<3.0.0dev,>=1.32.0->google-cloud-aiplatform==1.26.0) (1.16.0)\n",
      "Requirement already satisfied: charset-normalizer<4,>=2 in /opt/conda/lib/python3.10/site-packages (from requests<3.0.0dev,>=2.18.0->google-api-core!=2.0.*,!=2.1.*,!=2.2.*,!=2.3.*,!=2.4.*,!=2.5.*,!=2.6.*,!=2.7.*,<3.0.0dev,>=1.32.0->google-api-core[grpc]!=2.0.*,!=2.1.*,!=2.2.*,!=2.3.*,!=2.4.*,!=2.5.*,!=2.6.*,!=2.7.*,<3.0.0dev,>=1.32.0->google-cloud-aiplatform==1.26.0) (3.3.2)\n",
      "Requirement already satisfied: idna<4,>=2.5 in /opt/conda/lib/python3.10/site-packages (from requests<3.0.0dev,>=2.18.0->google-api-core!=2.0.*,!=2.1.*,!=2.2.*,!=2.3.*,!=2.4.*,!=2.5.*,!=2.6.*,!=2.7.*,<3.0.0dev,>=1.32.0->google-api-core[grpc]!=2.0.*,!=2.1.*,!=2.2.*,!=2.3.*,!=2.4.*,!=2.5.*,!=2.6.*,!=2.7.*,<3.0.0dev,>=1.32.0->google-cloud-aiplatform==1.26.0) (3.7)\n",
      "Requirement already satisfied: urllib3<3,>=1.21.1 in /opt/conda/lib/python3.10/site-packages (from requests<3.0.0dev,>=2.18.0->google-api-core!=2.0.*,!=2.1.*,!=2.2.*,!=2.3.*,!=2.4.*,!=2.5.*,!=2.6.*,!=2.7.*,<3.0.0dev,>=1.32.0->google-api-core[grpc]!=2.0.*,!=2.1.*,!=2.2.*,!=2.3.*,!=2.4.*,!=2.5.*,!=2.6.*,!=2.7.*,<3.0.0dev,>=1.32.0->google-cloud-aiplatform==1.26.0) (1.26.18)\n",
      "Requirement already satisfied: certifi>=2017.4.17 in /opt/conda/lib/python3.10/site-packages (from requests<3.0.0dev,>=2.18.0->google-api-core!=2.0.*,!=2.1.*,!=2.2.*,!=2.3.*,!=2.4.*,!=2.5.*,!=2.6.*,!=2.7.*,<3.0.0dev,>=1.32.0->google-api-core[grpc]!=2.0.*,!=2.1.*,!=2.2.*,!=2.3.*,!=2.4.*,!=2.5.*,!=2.6.*,!=2.7.*,<3.0.0dev,>=1.32.0->google-cloud-aiplatform==1.26.0) (2024.2.2)\n",
      "Requirement already satisfied: pyasn1<0.7.0,>=0.4.6 in /opt/conda/lib/python3.10/site-packages (from pyasn1-modules>=0.2.1->google-auth<3.0dev,>=1.25.0->google-api-core!=2.0.*,!=2.1.*,!=2.2.*,!=2.3.*,!=2.4.*,!=2.5.*,!=2.6.*,!=2.7.*,<3.0.0dev,>=1.32.0->google-api-core[grpc]!=2.0.*,!=2.1.*,!=2.2.*,!=2.3.*,!=2.4.*,!=2.5.*,!=2.6.*,!=2.7.*,<3.0.0dev,>=1.32.0->google-cloud-aiplatform==1.26.0) (0.6.0)\n"
     ]
    }
   ],
   "source": [
    "# Install dependencies.\n",
    "!pip install asyncio==3.4.3 asyncpg==0.27.0 cloud-sql-python-connector[\"asyncpg\"]==1.2.3\n",
    "!pip install numpy==1.22.4 pandas==1.5.3\n",
    "!pip install pgvector==0.1.8\n",
    "!pip install langchain==0.0.196 transformers==4.30.1\n",
    "!pip install google-cloud-aiplatform==1.26.0"
   ]
  },
  {
   "cell_type": "markdown",
   "metadata": {
    "id": "CX0ssSs11bYz"
   },
   "source": [
    "### Environment variables\n",
    "\n",
    "Use GCP in the following along with a Cloud SQL PostgreSQL database."
   ]
  },
  {
   "cell_type": "code",
   "execution_count": 2,
   "metadata": {
    "id": "5Zln92ee1xvG",
    "tags": []
   },
   "outputs": [],
   "source": [
    "project_id = \"genai-423417\"  \n",
    "database_password = \"123\"  \n",
    "region = \"us-west2\"  \n",
    "instance_name = \"demo1\"  \n",
    "database_name = \"jz1\"  \n",
    "database_user = \"jz1-admin\"  "
   ]
  },
  {
   "cell_type": "markdown",
   "metadata": {
    "id": "oYE38EHefzjj"
   },
   "source": [
    "### Setup Cloud SQL instance and PostgreSQL database"
   ]
  },
  {
   "cell_type": "code",
   "execution_count": 3,
   "metadata": {
    "id": "v3UzoWgEelyT",
    "tags": []
   },
   "outputs": [
    {
     "name": "stdout",
     "output_type": "stream",
     "text": [
      "Creating new Cloud SQL instance...\n",
      "Creating Cloud SQL instance for POSTGRES_15...done.                            \n",
      "Created [https://sqladmin.googleapis.com/sql/v1beta4/projects/genai-423417/instances/demo1].\n",
      "NAME   DATABASE_VERSION  LOCATION    TIER              PRIMARY_ADDRESS  PRIVATE_ADDRESS  STATUS\n",
      "demo1  POSTGRES_15       us-west2-b  db-custom-1-4096  35.236.89.27     -                RUNNABLE\n",
      "Creating Cloud SQL database...done.                                            \n",
      "Created database [jz1].\n",
      "instance: demo1\n",
      "name: jz1\n",
      "project: genai-423417\n",
      "Creating Cloud SQL user...done.                                                \n",
      "Created user [jz1-admin].\n"
     ]
    }
   ],
   "source": [
    "database_version = !gcloud sql instances describe {instance_name} --format=\"value(databaseVersion)\"\n",
    "if database_version[0].startswith(\"POSTGRES\"):\n",
    "  print(\"Found an existing Postgres Cloud SQL Instance!\")\n",
    "else:\n",
    "  print(\"Creating new Cloud SQL instance...\")\n",
    "  !gcloud sql instances create {instance_name} --database-version=POSTGRES_15 \\\n",
    "    --region={region} --cpu=1 --memory=4GB --root-password={database_password}\n",
    "\n",
    "# Create the database, if it does not exist.\n",
    "out = !gcloud sql databases list --instance={instance_name} --filter=\"NAME:{database_name}\" --format=\"value(NAME)\"\n",
    "if ''.join(out) == database_name:\n",
    "  print(\"Database %s already exists, skipping creation.\" % database_name)\n",
    "else:\n",
    "  !gcloud sql databases create {database_name} --instance={instance_name}\n",
    "\n",
    "# Create the database user for accessing the database.\n",
    "!gcloud sql users create {database_user} \\\n",
    "  --instance={instance_name} \\\n",
    "  --password={database_password}"
   ]
  },
  {
   "cell_type": "code",
   "execution_count": 4,
   "metadata": {
    "cellView": "form",
    "id": "h9f8iQAXfdai",
    "tags": []
   },
   "outputs": [
    {
     "name": "stderr",
     "output_type": "stream",
     "text": [
      "/opt/conda/lib/python3.10/site-packages/google/cloud/sql/connector/instance.py:330: CryptographyDeprecationWarning: Properties that return a naïve datetime object have been deprecated. Please switch to not_valid_after_utc.\n",
      "  expiration = x509.not_valid_after\n"
     ]
    },
    {
     "name": "stdout",
     "output_type": "stream",
     "text": [
      "PostgreSQL 15.5 on x86_64-pc-linux-gnu, compiled by Debian clang version 12.0.1, 64-bit\n"
     ]
    }
   ],
   "source": [
    "import asyncio\n",
    "import asyncpg\n",
    "from google.cloud.sql.connector import Connector\n",
    "\n",
    "\n",
    "async def main():\n",
    "    # get current running event loop to be used with Connector\n",
    "    loop = asyncio.get_running_loop()\n",
    "    # initialize Connector object as async context manager\n",
    "    async with Connector(loop=loop) as connector:\n",
    "        # create connection to Cloud SQL database\n",
    "        conn: asyncpg.Connection = await connector.connect_async(\n",
    "            f\"{project_id}:{region}:{instance_name}\",  # Cloud SQL instance connection name\n",
    "            \"asyncpg\",\n",
    "            user=f\"{database_user}\",\n",
    "            password=f\"{database_password}\",\n",
    "            db=f\"{database_name}\"\n",
    "            # ... additional database driver args\n",
    "        )\n",
    "\n",
    "        # query Cloud SQL database\n",
    "        results = await conn.fetch(\"SELECT version()\")\n",
    "        print(results[0][\"version\"])\n",
    "\n",
    "        # close asyncpg connection\n",
    "        await conn.close()\n",
    "\n",
    "\n",
    "# Test connection with `asyncio`\n",
    "await main()  # type: ignore"
   ]
  },
  {
   "cell_type": "markdown",
   "metadata": {
    "id": "Mj5N8V1CgLJ4"
   },
   "source": [
    "## Prepare data"
   ]
  },
  {
   "cell_type": "markdown",
   "metadata": {
    "id": "hCO82M0i6TiD"
   },
   "source": [
    "### Download and load the dataset in PostgreSQL"
   ]
  },
  {
   "cell_type": "code",
   "execution_count": 5,
   "metadata": {
    "id": "pYaxNic_DIL6",
    "tags": []
   },
   "outputs": [
    {
     "data": {
      "text/html": [
       "<div>\n",
       "<style scoped>\n",
       "    .dataframe tbody tr th:only-of-type {\n",
       "        vertical-align: middle;\n",
       "    }\n",
       "\n",
       "    .dataframe tbody tr th {\n",
       "        vertical-align: top;\n",
       "    }\n",
       "\n",
       "    .dataframe thead th {\n",
       "        text-align: right;\n",
       "    }\n",
       "</style>\n",
       "<table border=\"1\" class=\"dataframe\">\n",
       "  <thead>\n",
       "    <tr style=\"text-align: right;\">\n",
       "      <th></th>\n",
       "      <th>product_id</th>\n",
       "      <th>product_name</th>\n",
       "      <th>description</th>\n",
       "      <th>list_price</th>\n",
       "    </tr>\n",
       "  </thead>\n",
       "  <tbody>\n",
       "    <tr>\n",
       "      <th>0</th>\n",
       "      <td>7e8697b5b7cdb5a40daf54caf1435cd5</td>\n",
       "      <td>Koplow Games Set of 2 D12 12-Sided Rock, Paper...</td>\n",
       "      <td>Rock, paper, scissors is a great way to resolv...</td>\n",
       "      <td>3.56</td>\n",
       "    </tr>\n",
       "    <tr>\n",
       "      <th>1</th>\n",
       "      <td>7de8b315b3cb91f3680eb5b88a20dcee</td>\n",
       "      <td>12\"-20\" Schwinn Training Wheels</td>\n",
       "      <td>Turn any small bicycle into an instrument for ...</td>\n",
       "      <td>28.17</td>\n",
       "    </tr>\n",
       "    <tr>\n",
       "      <th>2</th>\n",
       "      <td>fb9535c103d7d717f0414b2b111cfaaa</td>\n",
       "      <td>Bicycle Pinochle Jumbo Index Playing Cards - 1...</td>\n",
       "      <td>Purchase includes 1 blue deck and 1 red deck. ...</td>\n",
       "      <td>6.49</td>\n",
       "    </tr>\n",
       "    <tr>\n",
       "      <th>3</th>\n",
       "      <td>c73ea622b3be6a3ffa3b0b5490e4929e</td>\n",
       "      <td>Step2 Woodland Adventure Playhouse &amp; Slide</td>\n",
       "      <td>The Step2 Woodland Climber Adventure Playhouse...</td>\n",
       "      <td>499.99</td>\n",
       "    </tr>\n",
       "    <tr>\n",
       "      <th>4</th>\n",
       "      <td>dec7bd1f983887650715c6fafaa5b593</td>\n",
       "      <td>Step2 Naturally Playful Welcome Home Playhouse...</td>\n",
       "      <td>Children can play and explore in the Step2 Nat...</td>\n",
       "      <td>600.00</td>\n",
       "    </tr>\n",
       "    <tr>\n",
       "      <th>5</th>\n",
       "      <td>74a695e3675efc2aad11ed73c46db29b</td>\n",
       "      <td>Slip N Slide Triple Racer with Slide Boogies</td>\n",
       "      <td>Triple Racer Slip and Slide with Boogie Boards...</td>\n",
       "      <td>37.21</td>\n",
       "    </tr>\n",
       "    <tr>\n",
       "      <th>6</th>\n",
       "      <td>3eae5293b56c25f63b47cb8a89fb4813</td>\n",
       "      <td>Hydro Tools Digital Pool/Spa Thermometer</td>\n",
       "      <td>The solar-powered Swimline Floating Digital Th...</td>\n",
       "      <td>15.92</td>\n",
       "    </tr>\n",
       "    <tr>\n",
       "      <th>7</th>\n",
       "      <td>ed85bf829a36c67042503ffd9b6ab475</td>\n",
       "      <td>Full Bucket Swing With Coated Chain Toddler Sw...</td>\n",
       "      <td>Safe Kids&amp;Children Full Bucket Swing With Coa...</td>\n",
       "      <td>102.26</td>\n",
       "    </tr>\n",
       "    <tr>\n",
       "      <th>8</th>\n",
       "      <td>55820fa53f0583cb637d5cb2b051d78c</td>\n",
       "      <td>Banzai Water Park Splash Zone</td>\n",
       "      <td>Dive into fun in your own backyard with the B...</td>\n",
       "      <td>397.82</td>\n",
       "    </tr>\n",
       "    <tr>\n",
       "      <th>9</th>\n",
       "      <td>0e26a9e92e4036bfaa68eb2040a8ec97</td>\n",
       "      <td>Polaris 39-310 5-Liter Zippered Super Bag for ...</td>\n",
       "      <td>Keep your pool water sparkling clean all seaso...</td>\n",
       "      <td>39.47</td>\n",
       "    </tr>\n",
       "  </tbody>\n",
       "</table>\n",
       "</div>"
      ],
      "text/plain": [
       "                         product_id  \\\n",
       "0  7e8697b5b7cdb5a40daf54caf1435cd5   \n",
       "1  7de8b315b3cb91f3680eb5b88a20dcee   \n",
       "2  fb9535c103d7d717f0414b2b111cfaaa   \n",
       "3  c73ea622b3be6a3ffa3b0b5490e4929e   \n",
       "4  dec7bd1f983887650715c6fafaa5b593   \n",
       "5  74a695e3675efc2aad11ed73c46db29b   \n",
       "6  3eae5293b56c25f63b47cb8a89fb4813   \n",
       "7  ed85bf829a36c67042503ffd9b6ab475   \n",
       "8  55820fa53f0583cb637d5cb2b051d78c   \n",
       "9  0e26a9e92e4036bfaa68eb2040a8ec97   \n",
       "\n",
       "                                        product_name  \\\n",
       "0  Koplow Games Set of 2 D12 12-Sided Rock, Paper...   \n",
       "1                    12\"-20\" Schwinn Training Wheels   \n",
       "2  Bicycle Pinochle Jumbo Index Playing Cards - 1...   \n",
       "3         Step2 Woodland Adventure Playhouse & Slide   \n",
       "4  Step2 Naturally Playful Welcome Home Playhouse...   \n",
       "5       Slip N Slide Triple Racer with Slide Boogies   \n",
       "6           Hydro Tools Digital Pool/Spa Thermometer   \n",
       "7  Full Bucket Swing With Coated Chain Toddler Sw...   \n",
       "8                      Banzai Water Park Splash Zone   \n",
       "9  Polaris 39-310 5-Liter Zippered Super Bag for ...   \n",
       "\n",
       "                                         description  list_price  \n",
       "0  Rock, paper, scissors is a great way to resolv...        3.56  \n",
       "1  Turn any small bicycle into an instrument for ...       28.17  \n",
       "2  Purchase includes 1 blue deck and 1 red deck. ...        6.49  \n",
       "3  The Step2 Woodland Climber Adventure Playhouse...      499.99  \n",
       "4  Children can play and explore in the Step2 Nat...      600.00  \n",
       "5  Triple Racer Slip and Slide with Boogie Boards...       37.21  \n",
       "6  The solar-powered Swimline Floating Digital Th...       15.92  \n",
       "7   Safe Kids&Children Full Bucket Swing With Coa...      102.26  \n",
       "8   Dive into fun in your own backyard with the B...      397.82  \n",
       "9  Keep your pool water sparkling clean all seaso...       39.47  "
      ]
     },
     "execution_count": 5,
     "metadata": {},
     "output_type": "execute_result"
    }
   ],
   "source": [
    "import pandas as pd\n",
    "import os\n",
    "\n",
    "DATASET_URL = \"https://github.com/GoogleCloudPlatform/python-docs-samples/raw/main/cloud-sql/postgres/pgvector/data/retail_toy_dataset.csv\"\n",
    "df = pd.read_csv(DATASET_URL)\n",
    "df = df.loc[:, [\"product_id\", \"product_name\", \"description\", \"list_price\"]]\n",
    "df = df.dropna()\n",
    "df.head(10)"
   ]
  },
  {
   "cell_type": "code",
   "execution_count": 6,
   "metadata": {
    "id": "amOgB-9yJ-jf",
    "tags": []
   },
   "outputs": [
    {
     "name": "stderr",
     "output_type": "stream",
     "text": [
      "/opt/conda/lib/python3.10/site-packages/google/cloud/sql/connector/instance.py:330: CryptographyDeprecationWarning: Properties that return a naïve datetime object have been deprecated. Please switch to not_valid_after_utc.\n",
      "  expiration = x509.not_valid_after\n"
     ]
    }
   ],
   "source": [
    "import asyncio\n",
    "import asyncpg\n",
    "from google.cloud.sql.connector import Connector\n",
    "\n",
    "\n",
    "async def main():\n",
    "    loop = asyncio.get_running_loop()\n",
    "    async with Connector(loop=loop) as connector:\n",
    "        # Create connection to Cloud SQL database\n",
    "        conn: asyncpg.Connection = await connector.connect_async(\n",
    "            f\"{project_id}:{region}:{instance_name}\",  # Cloud SQL instance connection name\n",
    "            \"asyncpg\",\n",
    "            user=f\"{database_user}\",\n",
    "            password=f\"{database_password}\",\n",
    "            db=f\"{database_name}\",\n",
    "        )\n",
    "\n",
    "        await conn.execute(\"DROP TABLE IF EXISTS products CASCADE\")\n",
    "        # Create the `products` table.\n",
    "        await conn.execute(\n",
    "            \"\"\"CREATE TABLE products(\n",
    "                                product_id VARCHAR(1024) PRIMARY KEY,\n",
    "                                product_name TEXT,\n",
    "                                description TEXT,\n",
    "                                list_price NUMERIC)\"\"\"\n",
    "        )\n",
    "\n",
    "        # Copy the dataframe to the `products` table.\n",
    "        tuples = list(df.itertuples(index=False))\n",
    "        await conn.copy_records_to_table(\n",
    "            \"products\", records=tuples, columns=list(df), timeout=10\n",
    "        )\n",
    "        await conn.close()\n",
    "\n",
    "\n",
    "# Run the SQL commands now.\n",
    "await main()  # type: ignore"
   ]
  },
  {
   "cell_type": "markdown",
   "metadata": {
    "id": "sP9MDFiIgVoV"
   },
   "source": [
    "## Vector Embeddings\n",
    "### Generate vector embeddings using a Text Embedding model\n",
    "Step 1: Split long product description text into smaller chunks"
   ]
  },
  {
   "cell_type": "code",
   "execution_count": 7,
   "metadata": {
    "id": "g_geQnFh0XML",
    "tags": []
   },
   "outputs": [],
   "source": [
    "# Split long text descriptions into smaller chunks that can fit into\n",
    "# the API request size limit, as expected by the LLM providers.\n",
    "\n",
    "from langchain.text_splitter import RecursiveCharacterTextSplitter\n",
    "\n",
    "text_splitter = RecursiveCharacterTextSplitter(\n",
    "    separators=[\".\", \"\\n\"],\n",
    "    chunk_size=500,\n",
    "    chunk_overlap=0,\n",
    "    length_function=len,\n",
    ")\n",
    "chunked = []\n",
    "for index, row in df.iterrows():\n",
    "    product_id = row[\"product_id\"]\n",
    "    desc = row[\"description\"]\n",
    "    splits = text_splitter.create_documents([desc])\n",
    "    for s in splits:\n",
    "        r = {\"product_id\": product_id, \"content\": s.page_content}\n",
    "        chunked.append(r)"
   ]
  },
  {
   "cell_type": "markdown",
   "metadata": {
    "id": "PzrarngXnkOk"
   },
   "source": [
    "Step 2: Generate vector embedding for each chunk by calling an Embedding Generation service\n",
    "\n",
    "Vertex AI text embedding model is used, which outputs a 768-dimensional vector for each chunk of text."
   ]
  },
  {
   "cell_type": "code",
   "execution_count": 8,
   "metadata": {
    "id": "jsK_9ARUHTIx",
    "tags": []
   },
   "outputs": [
    {
     "data": {
      "text/html": [
       "<div>\n",
       "<style scoped>\n",
       "    .dataframe tbody tr th:only-of-type {\n",
       "        vertical-align: middle;\n",
       "    }\n",
       "\n",
       "    .dataframe tbody tr th {\n",
       "        vertical-align: top;\n",
       "    }\n",
       "\n",
       "    .dataframe thead th {\n",
       "        text-align: right;\n",
       "    }\n",
       "</style>\n",
       "<table border=\"1\" class=\"dataframe\">\n",
       "  <thead>\n",
       "    <tr style=\"text-align: right;\">\n",
       "      <th></th>\n",
       "      <th>product_id</th>\n",
       "      <th>content</th>\n",
       "      <th>embedding</th>\n",
       "    </tr>\n",
       "  </thead>\n",
       "  <tbody>\n",
       "    <tr>\n",
       "      <th>0</th>\n",
       "      <td>7e8697b5b7cdb5a40daf54caf1435cd5</td>\n",
       "      <td>Rock, paper, scissors is a great way to resolv...</td>\n",
       "      <td>[0.040036752820014954, -0.025681596249341965, ...</td>\n",
       "    </tr>\n",
       "    <tr>\n",
       "      <th>1</th>\n",
       "      <td>7e8697b5b7cdb5a40daf54caf1435cd5</td>\n",
       "      <td>games, creating your own game, and friends and...</td>\n",
       "      <td>[0.01725427247583866, -0.002125497441738844, -...</td>\n",
       "    </tr>\n",
       "    <tr>\n",
       "      <th>2</th>\n",
       "      <td>7de8b315b3cb91f3680eb5b88a20dcee</td>\n",
       "      <td>Turn any small bicycle into an instrument for ...</td>\n",
       "      <td>[-0.004991121590137482, -0.06028855964541435, ...</td>\n",
       "    </tr>\n",
       "    <tr>\n",
       "      <th>3</th>\n",
       "      <td>7de8b315b3cb91f3680eb5b88a20dcee</td>\n",
       "      <td>teel brackets stand up to heavy use. Customiza...</td>\n",
       "      <td>[0.00582809979096055, -0.056259434670209885, 0...</td>\n",
       "    </tr>\n",
       "    <tr>\n",
       "      <th>4</th>\n",
       "      <td>7de8b315b3cb91f3680eb5b88a20dcee</td>\n",
       "      <td>es.com. Follow ride Schwinn on: Twitter. Faceb...</td>\n",
       "      <td>[0.0065319109708070755, -0.05318767577409744, ...</td>\n",
       "    </tr>\n",
       "  </tbody>\n",
       "</table>\n",
       "</div>"
      ],
      "text/plain": [
       "                         product_id  \\\n",
       "0  7e8697b5b7cdb5a40daf54caf1435cd5   \n",
       "1  7e8697b5b7cdb5a40daf54caf1435cd5   \n",
       "2  7de8b315b3cb91f3680eb5b88a20dcee   \n",
       "3  7de8b315b3cb91f3680eb5b88a20dcee   \n",
       "4  7de8b315b3cb91f3680eb5b88a20dcee   \n",
       "\n",
       "                                             content  \\\n",
       "0  Rock, paper, scissors is a great way to resolv...   \n",
       "1  games, creating your own game, and friends and...   \n",
       "2  Turn any small bicycle into an instrument for ...   \n",
       "3  teel brackets stand up to heavy use. Customiza...   \n",
       "4  es.com. Follow ride Schwinn on: Twitter. Faceb...   \n",
       "\n",
       "                                           embedding  \n",
       "0  [0.040036752820014954, -0.025681596249341965, ...  \n",
       "1  [0.01725427247583866, -0.002125497441738844, -...  \n",
       "2  [-0.004991121590137482, -0.06028855964541435, ...  \n",
       "3  [0.00582809979096055, -0.056259434670209885, 0...  \n",
       "4  [0.0065319109708070755, -0.05318767577409744, ...  "
      ]
     },
     "execution_count": 8,
     "metadata": {},
     "output_type": "execute_result"
    }
   ],
   "source": [
    "# Generate the vector embeddings for each chunk of text.\n",
    "# This code snippet may run for a few minutes.\n",
    "\n",
    "from langchain.embeddings import VertexAIEmbeddings\n",
    "from google.cloud import aiplatform\n",
    "import time\n",
    "\n",
    "aiplatform.init(project=f\"{project_id}\", location=f\"{region}\")\n",
    "embeddings_service = VertexAIEmbeddings()\n",
    "\n",
    "\n",
    "# Helper function to retry failed API requests with exponential backoff.\n",
    "def retry_with_backoff(func, *args, retry_delay=5, backoff_factor=2, **kwargs):\n",
    "    max_attempts = 10\n",
    "    retries = 0\n",
    "    for i in range(max_attempts):\n",
    "        try:\n",
    "            return func(*args, **kwargs)\n",
    "        except Exception as e:\n",
    "            print(f\"error: {e}\")\n",
    "            retries += 1\n",
    "            wait = retry_delay * (backoff_factor**retries)\n",
    "            print(f\"Retry after waiting for {wait} seconds...\")\n",
    "            time.sleep(wait)\n",
    "\n",
    "\n",
    "batch_size = 5\n",
    "for i in range(0, len(chunked), batch_size):\n",
    "    request = [x[\"content\"] for x in chunked[i : i + batch_size]]\n",
    "    response = retry_with_backoff(embeddings_service.embed_documents, request)\n",
    "    # Store the retrieved vector embeddings for each chunk back.\n",
    "    for x, e in zip(chunked[i : i + batch_size], response):\n",
    "        x[\"embedding\"] = e\n",
    "\n",
    "# Store the generated embeddings in a pandas dataframe.\n",
    "product_embeddings = pd.DataFrame(chunked)\n",
    "product_embeddings.head()"
   ]
  },
  {
   "cell_type": "markdown",
   "metadata": {
    "id": "9f68jtfnNqck"
   },
   "source": [
    "### Use pgvector to store the generated embeddings within PostgreSQL\n",
    "\n",
    "- The `pgvector` extension introduces a new `vector` data type.\n",
    "- **The new `vector` data type allows you to directly save a vector embedding (represented as a NumPy array) through a simple INSERT statement in PostgreSQL!**"
   ]
  },
  {
   "cell_type": "code",
   "execution_count": 9,
   "metadata": {
    "id": "hZKe_9qeRdMH",
    "tags": []
   },
   "outputs": [
    {
     "name": "stderr",
     "output_type": "stream",
     "text": [
      "/opt/conda/lib/python3.10/site-packages/google/cloud/sql/connector/instance.py:330: CryptographyDeprecationWarning: Properties that return a naïve datetime object have been deprecated. Please switch to not_valid_after_utc.\n",
      "  expiration = x509.not_valid_after\n"
     ]
    }
   ],
   "source": [
    "import asyncio\n",
    "import asyncpg\n",
    "from google.cloud.sql.connector import Connector\n",
    "import numpy as np\n",
    "from pgvector.asyncpg import register_vector\n",
    "\n",
    "\n",
    "async def main():\n",
    "    loop = asyncio.get_running_loop()\n",
    "    async with Connector(loop=loop) as connector:\n",
    "        # Create connection to Cloud SQL database.\n",
    "        conn: asyncpg.Connection = await connector.connect_async(\n",
    "            f\"{project_id}:{region}:{instance_name}\",  # Cloud SQL instance connection name\n",
    "            \"asyncpg\",\n",
    "            user=f\"{database_user}\",\n",
    "            password=f\"{database_password}\",\n",
    "            db=f\"{database_name}\",\n",
    "        )\n",
    "\n",
    "        await conn.execute(\"CREATE EXTENSION IF NOT EXISTS vector\")\n",
    "        await register_vector(conn)\n",
    "\n",
    "        await conn.execute(\"DROP TABLE IF EXISTS product_embeddings\")\n",
    "        # Create the `product_embeddings` table to store vector embeddings.\n",
    "        await conn.execute(\n",
    "            \"\"\"CREATE TABLE product_embeddings(\n",
    "                                product_id VARCHAR(1024) NOT NULL REFERENCES products(product_id),\n",
    "                                content TEXT,\n",
    "                                embedding vector(768))\"\"\"\n",
    "        )\n",
    "\n",
    "        # Store all the generated embeddings back into the database.\n",
    "        for index, row in product_embeddings.iterrows():\n",
    "            await conn.execute(\n",
    "                \"INSERT INTO product_embeddings (product_id, content, embedding) VALUES ($1, $2, $3)\",\n",
    "                row[\"product_id\"],\n",
    "                row[\"content\"],\n",
    "                np.array(row[\"embedding\"]),\n",
    "            )\n",
    "\n",
    "        await conn.close()\n",
    "\n",
    "\n",
    "# Run the SQL commands now.\n",
    "await main()  # type: ignore"
   ]
  },
  {
   "cell_type": "markdown",
   "metadata": {
    "id": "Ley1ZGjnG5Fr"
   },
   "source": [
    "### Create indexes for faster similarity search in pgvector"
   ]
  },
  {
   "cell_type": "code",
   "execution_count": 10,
   "metadata": {
    "cellView": "form",
    "id": "EJUDntZ1KTk7",
    "tags": []
   },
   "outputs": [],
   "source": [
    "m =  24 \n",
    "ef_construction = 100  \n",
    "operator =  \"vector_cosine_ops\"  \n",
    "\n",
    "# Quick input validations.\n",
    "assert m, \"⚠️ Please input a valid value for m.\"\n",
    "assert ef_construction, \"⚠️ Please input a valid value for ef_construction.\"\n",
    "assert operator, \"⚠️ Please input a valid value for operator.\"\n",
    "\n",
    "from pgvector.asyncpg import register_vector\n",
    "import asyncio\n",
    "import asyncpg\n",
    "from google.cloud.sql.connector import Connector\n",
    "\n",
    "\n",
    "async def main():\n",
    "    loop = asyncio.get_running_loop()\n",
    "    async with Connector(loop=loop) as connector:\n",
    "        # Create connection to Cloud SQL database.\n",
    "        conn: asyncpg.Connection = await connector.connect_async(\n",
    "            f\"{project_id}:{region}:{instance_name}\",  # Cloud SQL instance connection name\n",
    "            \"asyncpg\",\n",
    "            user=f\"{database_user}\",\n",
    "            password=f\"{database_password}\",\n",
    "            db=f\"{database_name}\",\n",
    "        )\n",
    "\n",
    "        await register_vector(conn)\n",
    "\n",
    "        # Create an HNSW index on the `product_embeddings` table.\n",
    "        await conn.execute(\n",
    "            f\"\"\"CREATE INDEX ON product_embeddings\n",
    "              USING hnsw(embedding {operator})\n",
    "              WITH (m = {m}, ef_construction = {ef_construction})\n",
    "            \"\"\"\n",
    "        )\n",
    "\n",
    "        await conn.close()\n",
    "\n",
    "\n",
    "# Run the SQL commands now.\n",
    "await main()  # type: ignore"
   ]
  },
  {
   "cell_type": "code",
   "execution_count": 11,
   "metadata": {
    "cellView": "form",
    "id": "7kFKBuysMk2I",
    "tags": []
   },
   "outputs": [],
   "source": [
    "lists =  100 \n",
    "operator =  \"vector_cosine_ops\"  \n",
    "\n",
    "# Quick input validations.\n",
    "assert lists, \"⚠️ Please input a valid value for lists.\"\n",
    "\n",
    "from pgvector.asyncpg import register_vector\n",
    "import asyncio\n",
    "import asyncpg\n",
    "from google.cloud.sql.connector import Connector\n",
    "\n",
    "\n",
    "async def main():\n",
    "    loop = asyncio.get_running_loop()\n",
    "    async with Connector(loop=loop) as connector:\n",
    "        # Create connection to Cloud SQL database.\n",
    "        conn: asyncpg.Connection = await connector.connect_async(\n",
    "            f\"{project_id}:{region}:{instance_name}\",  # Cloud SQL instance connection name\n",
    "            \"asyncpg\",\n",
    "            user=f\"{database_user}\",\n",
    "            password=f\"{database_password}\",\n",
    "            db=f\"{database_name}\",\n",
    "        )\n",
    "\n",
    "        await register_vector(conn)\n",
    "\n",
    "        # Create an IVFFLAT index on the `product_embeddings` table.\n",
    "        await conn.execute(\n",
    "            f\"\"\"CREATE INDEX ON product_embeddings\n",
    "              USING ivfflat(embedding {operator})\n",
    "              WITH (lists = {lists})\n",
    "            \"\"\"\n",
    "        )\n",
    "\n",
    "        await conn.close()\n",
    "\n",
    "\n",
    "# Run the SQL commands now.\n",
    "await main()  # type: ignore"
   ]
  },
  {
   "cell_type": "markdown",
   "metadata": {
    "id": "Lm0dVJeInyfM"
   },
   "source": [
    "### Find similar toy products using pgvector cosine search operator"
   ]
  },
  {
   "cell_type": "code",
   "execution_count": 12,
   "metadata": {
    "cellView": "form",
    "id": "_zRBR9YJoENp",
    "tags": []
   },
   "outputs": [
    {
     "data": {
      "text/html": [
       "<div>\n",
       "<style scoped>\n",
       "    .dataframe tbody tr th:only-of-type {\n",
       "        vertical-align: middle;\n",
       "    }\n",
       "\n",
       "    .dataframe tbody tr th {\n",
       "        vertical-align: top;\n",
       "    }\n",
       "\n",
       "    .dataframe thead th {\n",
       "        text-align: right;\n",
       "    }\n",
       "</style>\n",
       "<table border=\"1\" class=\"dataframe\">\n",
       "  <thead>\n",
       "    <tr style=\"text-align: right;\">\n",
       "      <th></th>\n",
       "      <th>product_name</th>\n",
       "      <th>description</th>\n",
       "      <th>list_price</th>\n",
       "    </tr>\n",
       "  </thead>\n",
       "  <tbody>\n",
       "    <tr>\n",
       "      <th>0</th>\n",
       "      <td>Bicycle Playing Cards- Dragon</td>\n",
       "      <td>Each Bicycle Dragon Back Deck features an intr...</td>\n",
       "      <td>42.54</td>\n",
       "    </tr>\n",
       "    <tr>\n",
       "      <th>1</th>\n",
       "      <td>Zelda Uno Card Game Special Legend Rule Exclus...</td>\n",
       "      <td>Bonus Zelda Rules Exclusive Card Game Zelda Un...</td>\n",
       "      <td>29.58</td>\n",
       "    </tr>\n",
       "  </tbody>\n",
       "</table>\n",
       "</div>"
      ],
      "text/plain": [
       "                                        product_name  \\\n",
       "0                      Bicycle Playing Cards- Dragon   \n",
       "1  Zelda Uno Card Game Special Legend Rule Exclus...   \n",
       "\n",
       "                                         description list_price  \n",
       "0  Each Bicycle Dragon Back Deck features an intr...      42.54  \n",
       "1  Bonus Zelda Rules Exclusive Card Game Zelda Un...      29.58  "
      ]
     },
     "execution_count": 12,
     "metadata": {},
     "output_type": "execute_result"
    }
   ],
   "source": [
    "toy = \"playing card games\"  \n",
    "min_price = 25  \n",
    "max_price = 100 \n",
    "\n",
    "# Quick input validations.\n",
    "assert toy, \"⚠️ Please input a valid input search text\"\n",
    "\n",
    "from langchain.embeddings import VertexAIEmbeddings\n",
    "from google.cloud import aiplatform\n",
    "\n",
    "aiplatform.init(project=f\"{project_id}\", location=f\"{region}\")\n",
    "\n",
    "embeddings_service = VertexAIEmbeddings()\n",
    "qe = embeddings_service.embed_query([toy])\n",
    "from pgvector.asyncpg import register_vector\n",
    "import asyncio\n",
    "import asyncpg\n",
    "from google.cloud.sql.connector import Connector\n",
    "\n",
    "matches = []\n",
    "\n",
    "\n",
    "async def main():\n",
    "    loop = asyncio.get_running_loop()\n",
    "    async with Connector(loop=loop) as connector:\n",
    "        # Create connection to Cloud SQL database.\n",
    "        conn: asyncpg.Connection = await connector.connect_async(\n",
    "            f\"{project_id}:{region}:{instance_name}\",  # Cloud SQL instance connection name\n",
    "            \"asyncpg\",\n",
    "            user=f\"{database_user}\",\n",
    "            password=f\"{database_password}\",\n",
    "            db=f\"{database_name}\",\n",
    "        )\n",
    "\n",
    "        await register_vector(conn)\n",
    "        similarity_threshold = 0.1\n",
    "        num_matches = 50\n",
    "\n",
    "        # Find similar products to the query using cosine similarity search\n",
    "        # over all vector embeddings. This new feature is provided by `pgvector`.\n",
    "        results = await conn.fetch(\n",
    "            \"\"\"\n",
    "                            WITH vector_matches AS (\n",
    "                              SELECT product_id, 1 - (embedding <=> $1) AS similarity\n",
    "                              FROM product_embeddings\n",
    "                              WHERE 1 - (embedding <=> $1) > $2\n",
    "                              ORDER BY similarity DESC\n",
    "                              LIMIT $3\n",
    "                            )\n",
    "                            SELECT product_name, list_price, description FROM products\n",
    "                            WHERE product_id IN (SELECT product_id FROM vector_matches)\n",
    "                            AND list_price >= $4 AND list_price <= $5\n",
    "                            \"\"\",\n",
    "            qe,\n",
    "            similarity_threshold,\n",
    "            num_matches,\n",
    "            min_price,\n",
    "            max_price,\n",
    "        )\n",
    "\n",
    "        if len(results) == 0:\n",
    "            raise Exception(\"Did not find any results. Adjust the query parameters.\")\n",
    "\n",
    "        for r in results:\n",
    "            # Collect the description for all the matched similar toy products.\n",
    "            matches.append(\n",
    "                {\n",
    "                    \"product_name\": r[\"product_name\"],\n",
    "                    \"description\": r[\"description\"],\n",
    "                    \"list_price\": round(r[\"list_price\"], 2),\n",
    "                }\n",
    "            )\n",
    "\n",
    "        await conn.close()\n",
    "\n",
    "\n",
    "# Run the SQL commands now.\n",
    "await main()  # type: ignore\n",
    "\n",
    "# Show the results for similar products that matched the user query.\n",
    "matches = pd.DataFrame(matches)\n",
    "matches.head(5)"
   ]
  },
  {
   "cell_type": "markdown",
   "metadata": {
    "id": "5z25qzj4HO69"
   },
   "source": [
    "Ok, we have extracted the semantic knowledge of the dataset and made it searchable through pgvector and PostgreSQL.\n",
    "\n",
    "Next, use this semantic knowledge to answer complex natural language queries using LLMs."
   ]
  },
  {
   "cell_type": "markdown",
   "metadata": {
    "id": "WtDT5DbCNWoe"
   },
   "source": [
    "## LLMs and LangChain"
   ]
  },
  {
   "cell_type": "markdown",
   "metadata": {
    "id": "qSk0E3hlXSP0"
   },
   "source": [
    "### *Use case 1*: Building an AI-curated contextual hybrid search\n",
    "\n",
    "Combine natural language query text with regular relational filters to create a powerful hybrid search.\n",
    "\n",
    "Example: A grandparent wants to use the **AI-powered search interface** to find an educational toy for their grandkid that fits within their budget."
   ]
  },
  {
   "cell_type": "code",
   "execution_count": 13,
   "metadata": {
    "cellView": "form",
    "id": "0-_AYhlgXYSK",
    "tags": []
   },
   "outputs": [],
   "source": [
    "user_query = \"Do you have a beach toy set that teaches numbers and letters to kids?\"  \n",
    "min_price = 1  \n",
    "max_price = 1000000  \n",
    "\n",
    "# Quick input validations.\n",
    "assert user_query, \"⚠️ Please input a valid input search text\""
   ]
  },
  {
   "cell_type": "markdown",
   "metadata": {
    "id": "fsOl5A9ldRgh"
   },
   "source": [
    "Step 1: Generate the vector embedding for the user query"
   ]
  },
  {
   "cell_type": "code",
   "execution_count": 14,
   "metadata": {
    "id": "Y83GRy7jdYRa",
    "tags": []
   },
   "outputs": [],
   "source": [
    "qe = embeddings_service.embed_query([user_query])"
   ]
  },
  {
   "cell_type": "markdown",
   "metadata": {
    "id": "ovmRE0updh16"
   },
   "source": [
    "Step 2: Use `pgvector` to find similar products"
   ]
  },
  {
   "cell_type": "code",
   "execution_count": 15,
   "metadata": {
    "id": "HJyqPE9XYCya",
    "tags": []
   },
   "outputs": [
    {
     "name": "stderr",
     "output_type": "stream",
     "text": [
      "/opt/conda/lib/python3.10/site-packages/google/cloud/sql/connector/instance.py:330: CryptographyDeprecationWarning: Properties that return a naïve datetime object have been deprecated. Please switch to not_valid_after_utc.\n",
      "  expiration = x509.not_valid_after\n"
     ]
    },
    {
     "data": {
      "text/plain": [
       "['The name of the toy is 14pcs Beach Tools Set Sand Playing Toys Kids Fun Water Beach Seaside Tools Gifts.\\n                          The price of the toy is $16.67.\\n                          Its description is below:\\n                           14pcs Beach Tools Set Sand PlayingToys Kids Fun Water Beach Seaside Tools Gifts We\\xa0dont\\xa0offer\\xa0the\\xa0choice\\xa0of\\xa0color\\xa0and\\xa0style,we\\xa0will\\xa0send\\xa0the\\xa0product\\xa0at\\xa0random, hope\\xa0you\\xa0can\\xa0understand Features： Brand newand high quality. Uniqueshapes and bright colors,can attract childrens attention. Let thechildren can play in the beach and enjoy the sunshine,while being able topromote their creativity and initiative. Perfectfor beach,sandbeach,seaside,swimming pool,bathtub etc. This is agood gift to your children. Enjoyyour shopping time,have a nice day! Notice: Pleaseallow 1-3mm error due to manual measurement and make sure you do not mindbefore ordering. Pleaseunderstand that colors may exist chromatic aberration as the differentplacement of pictures. Plsbarrel understand Colors will be sent at random Packageincluded: 14PcsKids Beach Toys 14pcs Beach Tools Set Sand Playing Toys Kids Fun Water Beach Seaside Tools Gifts Brand newand high quality.  Uniqueshapes and bright colors,can attract childrens attention.  Let thechildren can play in the beach and enjoy the sunshine,while being able topromote their creativity and initiative.  Perfectfor beach,sandbeach,seaside,swimming pool,bathtub etc.  This is agood gift to your children.  Enjoyyour shopping time,have a nice day!  Pleaseallow 1-3mm error due to manual measurement and make sure you do not mindbefore ordering.  Pleaseunderstand that colors may exist chromatic aberration as the differentplacement of pictures.  Plsbarrel understand Colors will be sent at random  14PcsKids Beach Toys .',\n",
       " 'The name of the toy is 14pcs Beach Tools Set Sand Playing Toys Kids Fun Water Beach Seaside Tools Gifts.\\n                          The price of the toy is $14.20.\\n                          Its description is below:\\n                           14pcs Beach Tools Set Sand Playing Toys Kids Fun Water Beach Seaside Tools Gifts We dont offer the choice of color and style, we will send the product at random, hope you can understand Features： Brand new and high quality. Unique shapes and bright colors,can attract childrens attention. Let the children can play in the beach and enjoy the sunshine,while being able to promote their creativity and initiative. Perfect for beach,sandbeach,seaside,swimming pool,bathtub etc. This is a good gift to your children. Enjoy your shopping time,have a nice day! Notice: Please allow 1-3mm error due to manual measurement and make sure you do not mind before ordering. Please understand that colors may exist chromatic aberration as the different placement of pictures. Pls barrel understand Colors will be sent at random Package included: 14Pcs Kids Beach Toys 14pcs Beach Tools Set Sand Playing Toys Kids Fun Water Beach Seaside Tools Gifts.',\n",
       " 'The name of the toy is Beach Toys Mega Pack - Bulk Beach & Sandbox Play Set w/ Unique Crab, Shell & Sea Life Sand Molds, Shovel, Rake, Watering Can & BONUS Basket Carry Bag w/ Handles - Available in Pink or Blue.\\n                          The price of the toy is $10.99.\\n                          Its description is below:\\n                          Keep them busy at the beach?while molding their minds! As young kids grow older, every moment of play is an opportunity for education. With this exciting Beach Toys Mega Pack from Toys 4 U, boys and girls can dig into learning while enjoying exciting fun in the sun! Our expansive package arrives with everything they need to build, excavate, smooth and shape the sand. But unlike everyday sandbox tools, ours offer a charming sea life theme to complement their coastal surroundings. Teach your toddler the names of ocean animals, show them how to till, and watch as they exercise their imaginations by stamping an underwater scene straight into the sand. When it?s time to wash up, place all the pieces into the FREE carry basket, and use a hose to rinse everything clean for storage. It?s easy for adults, entertaining for kids?and durable enough to last season after season! Say ?no more? to toys that are so flimsy you leave them behind after one day. Add a Beach Toys Mega Pack to your cart today! What You Get 1 x Beach Toys Mega Pack from Toys 4 U 9 x Individual molds and tools for endless outdoor play 1 x pink or blue tote for simple carrying and cleaning The ultimate playset for baby, toddler or builder in training! Specs & Details Toy quantity: 9 Color: pink or blue Tools: shovel, excavator rake, watering can *Molds: shell, crab, lobster, octopus, walrus, sea horse, whale, starfish (assortment varies per bag) Material: non toxic plastic Warning: always play under adult supervision Recommended ages 2 and up How to Enjoy Teach tots how to dig, form, shape and build in the sand See your little digger develop skills while tickling their fancy Toss everything in the packable basket and hose down for storage Give an amazing gift for an upcoming pool party or play date! HUGE SAND TOYS MEGA SET ? All-In-One Play Package Includes Plenty of Molds & Tools for Building a Castle, Digging for Treasure or Creating Creatures in the Sand ADORABLE UNDERWATER THEME ? Boys & Girls Choose from a Rake, Shovel, Water Can, Crab, Octopus, Walrus, Lobster, Whale, Starfish, Seahorse or Sea Shell Mold* CONVENIENT STORAGE BAG ? Toys Arrive Neatly Stored Inside a Tote Holder w/ Mesh Design for Fast Cleaning; Big Handles Let Tots Carry to Beach Themselves HEAVY DUTY CONSTRUCTION ? Large, Colorful, Durable Pieces are Safe & Easy to Grasp for Toddlers; High Quality, Non Toxic Plastic Won?t Bend, Warp, Split or Break - HOURS OF IMAGINATIVE PLAY ? Open-Ended Toys Teach STEM Concepts HOURS OF IMAGINATIVE PLAY ? Open-Ended Toys Teach STEM Concepts & Encourage Sharing, Creativity, Communication, Problem-Solving & Collaboration 1 x Beach Toys Mega Pack from Toys 4 U 9 x Individual molds and tools for endless outdoor play 1 x pink or blue tote for simple carrying and cleaning The ultimate playset for baby, toddler or builder in training!Toy quantity: 9 Color: pink or blue Tools: shovel, excavator rake, watering can *Molds: shell, crab, lobster, octopus, walrus, sea horse, whale, starfish (assortment varies per bag) Material: non toxic plastic Warning: always play under adult supervision Recommended ages 2 and upTeach tots how to dig, form, shape and build in the sand See your little digger develop skills while tickling their fancy Toss everything in the packable basket and hose down for storage Give an amazing gift for an upcoming pool party or play date!HUGE SAND TOYS MEGA SET ? All-In-One Play Package Includes Plenty of Molds & Tools for Building a Castle, Digging for Treasure or Creating Creatures in the SandADORABLE UNDERWATER THEME ? Boys & Girls Choose from a Rake, Shovel, Water Can, Crab, Octopus, Walrus, Lobster, Whale, Starfish, Seahorse or Sea Shell Mold*CONVENIENT STORAGE BAG ? Toys Arrive Neatly Stored Inside a Tote Holder w/ Mesh Design for Fast Cleaning; Big Handles Let Tots Carry to Beach ThemselvesHEAVY DUTY CONSTRUCTION ? Large, Colorful, Durable Pieces are Safe & Easy to Grasp for Toddlers; High Quality, Non Toxic Plastic Won?t Bend, Warp, Split or Break - HOURS OF IMAGINATIVE PLAY ? Open-Ended Toys Teach STEM ConceptsHOURS OF IMAGINATIVE PLAY ? Open-Ended Toys Teach STEM Concepts & Encourage Sharing, Creativity, Communication, Problem-Solving & Collaboration.',\n",
       " 'The name of the toy is IMAGE 14PCS Beach Toys Set Soft Plastic Pool Toy s/Bath with Mesh Bag/Truck/ Bucket/Shovels/Rakes/Lots of Sand Molds/BPA Free for Kids Boys Girls& Toddler.\\n                          The price of the toy is $19.99.\\n                          Its description is below:\\n                           Beach Toys Set Soft Plastic Pool Toy s/Bath with Mesh Bag, Truck, Bucket, Shovels, Rakes, Lots of Sand Molds, BPA Free for Kids Boys Girls Toddler Every kid can make a happy day on the water or sand, especially with this bright and colorful beach toys set. Playing in imagination will promote kids\\\\ hand-eye coordination and critical thinking skills. The Bright and colorful beach toys will keep your child busy and motivated for hours, It\\\\s a way to make children imagination come true and fun and a unique way to inspire kiddies\\\\ creativity and sure to be hours of fun! Playing on the beach is bound to be joyful to build sand castles. This amazing sand beach toys kit includes 2 rakes (1 big and 1 small), 2 shovels (1 small and 1 big) and 1 drain shovel, 1 Truck, 1 Bucket, 1 Watering can, 1 Water wheel and 6 Castle Sand Molds! All the diggers ensure little ones to collect and carry sand and build their own castles with ease. The more toys they have, the more fun they create. Fitnate 14pcs Beach Toys Set will make your child\\\\s Sand-Castling Experience more Pleasurable. It\\\\s the Perfect Gift for Kids & Toddlers. Advantage： Inspire imagination and creativity Made of Soft Plastic, BPA Free, durable, can be bend, wont break Comes in a Blue Drawstring Backpack for convenient storage and carrying of all the Pieces For Beach, Pool, or Bath In the Box: 1x Truck, 1x Bucket, 1x Watering can, 1x Water wheel, 2x Shovels, 2x Rakes, 6x Castle Sand Molds(2 Castle Molds walls, 2 Round Castles, 2 Spire Castles) This sand beach toys kit includes 2 rakes (1 big and 1 small); 2 shovels (1 small and 1 big) and 1 drain shovel; 1 Truck; 1 Bucket; 1 Watering can; 1 Water wheel and 6 Castle Sand MoldsInspire imagination and creativityMade of Soft Plastic, BPA Free, durable, can be bend, wont breakComes in a Blue Drawstring Backpack for convenient storage and carrying of all the PiecesFor Beach, Pool, or Bath.']"
      ]
     },
     "execution_count": 15,
     "metadata": {},
     "output_type": "execute_result"
    }
   ],
   "source": [
    "from pgvector.asyncpg import register_vector\n",
    "import asyncio\n",
    "import asyncpg\n",
    "from google.cloud.sql.connector import Connector\n",
    "\n",
    "matches = []\n",
    "\n",
    "\n",
    "async def main():\n",
    "    loop = asyncio.get_running_loop()\n",
    "    async with Connector(loop=loop) as connector:\n",
    "        # Create connection to Cloud SQL database.\n",
    "        conn: asyncpg.Connection = await connector.connect_async(\n",
    "            f\"{project_id}:{region}:{instance_name}\",  # Cloud SQL instance connection name\n",
    "            \"asyncpg\",\n",
    "            user=f\"{database_user}\",\n",
    "            password=f\"{database_password}\",\n",
    "            db=f\"{database_name}\",\n",
    "        )\n",
    "\n",
    "        await register_vector(conn)\n",
    "        similarity_threshold = 0.7\n",
    "        num_matches = 5\n",
    "\n",
    "        # Find similar products to the query using cosine similarity search\n",
    "        # over all vector embeddings. This new feature is provided by `pgvector`.\n",
    "        results = await conn.fetch(\n",
    "            \"\"\"\n",
    "                            WITH vector_matches AS (\n",
    "                              SELECT product_id, 1 - (embedding <=> $1) AS similarity\n",
    "                              FROM product_embeddings\n",
    "                              WHERE 1 - (embedding <=> $1) > $2\n",
    "                              ORDER BY similarity DESC\n",
    "                              LIMIT $3\n",
    "                            )\n",
    "                            SELECT product_name, list_price, description FROM products\n",
    "                            WHERE product_id IN (SELECT product_id FROM vector_matches)\n",
    "                            AND list_price >= $4 AND list_price <= $5\n",
    "                            \"\"\",\n",
    "            qe,\n",
    "            similarity_threshold,\n",
    "            num_matches,\n",
    "            min_price,\n",
    "            max_price,\n",
    "        )\n",
    "\n",
    "        if len(results) == 0:\n",
    "            raise Exception(\"Did not find any results. Adjust the query parameters.\")\n",
    "\n",
    "        for r in results:\n",
    "            # Collect the description for all the matched similar toy products.\n",
    "            matches.append(\n",
    "                f\"\"\"The name of the toy is {r[\"product_name\"]}.\n",
    "                          The price of the toy is ${round(r[\"list_price\"], 2)}.\n",
    "                          Its description is below:\n",
    "                          {r[\"description\"]}.\"\"\"\n",
    "            )\n",
    "        await conn.close()\n",
    "\n",
    "\n",
    "# Run the SQL commands now.\n",
    "await main()  # type: ignore\n",
    "\n",
    "# Show the results for similar products that matched the user query.\n",
    "matches"
   ]
  },
  {
   "cell_type": "markdown",
   "metadata": {
    "id": "3oiqKZBKe4jq"
   },
   "source": [
    "Step 3: Use LangChain to summarize and generate a high-quality prompt to answer the user query\n",
    "\n",
    "- After finding the similar products and their descriptions using `pgvector`, the next step is to use them for generating a prompt input for the LLM model.\n",
    "- Since individual product descriptions can be very long, they may not fit within the specified input payload limit for an LLM model.\n",
    "- The `MapReduceChain` from LangChain framework is used to generate and combine short summaries of similarly matched products.\n",
    "- The combined summaries are then used to build a high-quality prompt for an input to the LLM model."
   ]
  },
  {
   "cell_type": "code",
   "execution_count": 16,
   "metadata": {
    "id": "jPPUSBKb1Soc",
    "tags": []
   },
   "outputs": [
    {
     "name": "stderr",
     "output_type": "stream",
     "text": [
      "/opt/conda/lib/python3.10/site-packages/huggingface_hub/file_download.py:1132: FutureWarning: `resume_download` is deprecated and will be removed in version 1.0.0. Downloads always resume when possible. If you want to force a new download, use `force_download=True`.\n",
      "  warnings.warn(\n"
     ]
    },
    {
     "data": {
      "text/markdown": [
       " 1. **Toy Name:** Beach Toys Mega Pack - Bulk Beach & Sandbox Play Set\n",
       "\n",
       "2. **Price:** $10.99\n",
       "\n",
       "3. **Features:**\n",
       "\n",
       "- This toy set does not teach numbers and letters to kids.\n",
       "- It includes 9 individual molds and tools for endless outdoor play.\n",
       "- Comes with a pink or blue tote for simple carrying and cleaning.\n",
       "- Has an adorable underwater theme with molds of sea creatures like crab, octopus, walrus, lobster, whale, starfish, and seahorse.\n",
       "- Made of high-quality, non-toxic plastic that is durable and safe for"
      ],
      "text/plain": [
       "<IPython.core.display.Markdown object>"
      ]
     },
     "metadata": {},
     "output_type": "display_data"
    }
   ],
   "source": [
    "# Using LangChain for summarization and efficient context building.\n",
    "\n",
    "from langchain.chains.summarize import load_summarize_chain\n",
    "from langchain.docstore.document import Document\n",
    "from langchain.llms import VertexAI\n",
    "from langchain import PromptTemplate, LLMChain\n",
    "from IPython.display import display, Markdown\n",
    "\n",
    "llm = VertexAI()\n",
    "\n",
    "map_prompt_template = \"\"\"\n",
    "              You will be given a detailed description of a toy product.\n",
    "              This description is enclosed in triple backticks (```).\n",
    "              Using this description only, extract the name of the toy,\n",
    "              the price of the toy and its features.\n",
    "\n",
    "              ```{text}```\n",
    "              SUMMARY:\n",
    "              \"\"\"\n",
    "map_prompt = PromptTemplate(template=map_prompt_template, input_variables=[\"text\"])\n",
    "\n",
    "combine_prompt_template = \"\"\"\n",
    "                You will be given a detailed description different toy products\n",
    "                enclosed in triple backticks (```) and a question enclosed in\n",
    "                double backticks(``).\n",
    "                Select one toy that is most relevant to answer the question.\n",
    "                Using that selected toy description, answer the following\n",
    "                question in as much detail as possible.\n",
    "                You should only use the information in the description.\n",
    "                Your answer should include the name of the toy, the price of the toy\n",
    "                and its features. Your answer should be less than 200 words.\n",
    "                Your answer should be in Markdown in a numbered list format.\n",
    "\n",
    "\n",
    "                Description:\n",
    "                ```{text}```\n",
    "\n",
    "\n",
    "                Question:\n",
    "                ``{user_query}``\n",
    "\n",
    "\n",
    "                Answer:\n",
    "                \"\"\"\n",
    "combine_prompt = PromptTemplate(\n",
    "    template=combine_prompt_template, input_variables=[\"text\", \"user_query\"]\n",
    ")\n",
    "\n",
    "docs = [Document(page_content=t) for t in matches]\n",
    "chain = load_summarize_chain(\n",
    "    llm, chain_type=\"map_reduce\", map_prompt=map_prompt, combine_prompt=combine_prompt\n",
    ")\n",
    "answer = chain.run(\n",
    "    {\n",
    "        \"input_documents\": docs,\n",
    "        \"user_query\": user_query,\n",
    "    }\n",
    ")\n",
    "\n",
    "\n",
    "display(Markdown(answer))"
   ]
  },
  {
   "cell_type": "markdown",
   "metadata": {
    "id": "aMLXHsMcme8D"
   },
   "source": [
    "### _Use case 2_: Adding AI-powered creative content generation\n",
    "\n",
    "Use knowledge from the existing dataset to generate new AI-powered content from an initial prompt.\n",
    "\n",
    "Example: A third-party seller on the retail platform wants to use the **AI-powered content generation** to create a detailed description of their new bicycle product."
   ]
  },
  {
   "cell_type": "code",
   "execution_count": 17,
   "metadata": {
    "cellView": "form",
    "id": "zTKKx8dRneGT",
    "tags": []
   },
   "outputs": [],
   "source": [
    "# @markdown Describe your a new product in just a few words:\n",
    "# Please fill in these values.\n",
    "creative_prompt = \"A bicycle with brand name 'Roadstar bike' for kids that comes with training wheels and helmet.\"  # @param {type:\"string\"}\n",
    "\n",
    "# Quick input validations.\n",
    "assert creative_prompt, \"⚠️ Please input a valid input search text\""
   ]
  },
  {
   "cell_type": "markdown",
   "metadata": {
    "id": "Saer6XxA5wag"
   },
   "source": [
    "Step 1: Find an existing product description matching the initial prompt\n",
    "\n",
    "- Leverage the `pgvector` similarity search operator to find an existing\n",
    "product description that closely matches the new product specified\n",
    "in the initial prompt."
   ]
  },
  {
   "cell_type": "code",
   "execution_count": 18,
   "metadata": {
    "id": "GYWxaolhyakt",
    "tags": []
   },
   "outputs": [
    {
     "name": "stderr",
     "output_type": "stream",
     "text": [
      "/opt/conda/lib/python3.10/site-packages/google/cloud/sql/connector/instance.py:330: CryptographyDeprecationWarning: Properties that return a naïve datetime object have been deprecated. Please switch to not_valid_after_utc.\n",
      "  expiration = x509.not_valid_after\n"
     ]
    },
    {
     "data": {
      "text/plain": [
       "['Turn any small bicycle into an instrument for learning to ride with the Schwinn 12\"-20\" Training Wheels. They feature a slotted design to fit 12\" to 20\" bikes. The training wheels are easy to assemble, install and remove, so that when your little one is able to ride without assistance, you can take them off. These bicycle training wheels include steel brackets and rubber tires that can stand up to heavy use. Training Wheels, Fits 12 inches - 20 inches bicycles. Est. 1895. Durable Construction: Steel brackets stand up to heavy use. Customizable: Two sets of wheel decals included. Features: Fits Most Childrens Bicycles: Intended for 12 inch - 20 inch bicycles. Steel Brackets: Offer increased durability. Includes two sets of wheel decals: Learn how to ride in style - see images below. Easy to Adjust: Slotted design for size adjustment. Includes: One pair of training wheels, four decals, installation instructions, and all mounting hardware. Tools required: Adjustable wrench. www.schwinnbikes.com. Follow ride Schwinn on: Twitter. Facebook. Made in China. Training Wheels,Fits 12 inches - 20 inches bicycles. Est. 1895. Durable Construction: Steel brackets stand up to heavy use. Customizable: Two sets of wheel decals included. Features: Fits Most Childrens Bicycles: Intended for 12 inch - 20 inch bicycles. Steel Brackets: Offer increased durability. Includes two sets of wheel decals: Learn how to ride in style - see images below. Easy to Adjust: Slotted design for size adjustment. Includes: One pair of training wheels, four decals, installation instructions, and all mounting hardware. Tools required: Adjustable wrench. www.schwinnbikes.com. Follow ride Schwinn on: Twitter. Facebook. Made in China.']"
      ]
     },
     "execution_count": 18,
     "metadata": {},
     "output_type": "execute_result"
    }
   ],
   "source": [
    "from pgvector.asyncpg import register_vector\n",
    "import asyncio\n",
    "import asyncpg\n",
    "from google.cloud.sql.connector import Connector\n",
    "\n",
    "qe = embeddings_service.embed_query([creative_prompt])\n",
    "qe_str = \"[%s]\" % (\",\".join([str(x) for x in qe]))\n",
    "matches = []\n",
    "\n",
    "\n",
    "async def main():\n",
    "    loop = asyncio.get_running_loop()\n",
    "    async with Connector(loop=loop) as connector:\n",
    "        # Create connection to Cloud SQL database.\n",
    "        conn: asyncpg.Connection = await connector.connect_async(\n",
    "            f\"{project_id}:{region}:{instance_name}\",  # Cloud SQL instance connection name\n",
    "            \"asyncpg\",\n",
    "            user=f\"{database_user}\",\n",
    "            password=f\"{database_password}\",\n",
    "            db=f\"{database_name}\",\n",
    "        )\n",
    "\n",
    "        await register_vector(conn)\n",
    "        similarity_threshold = 0.7\n",
    "\n",
    "        # Find similar products to the query using cosine similarity search\n",
    "        # over all vector embeddings. This new feature is provided by `pgvector`.\n",
    "        results = await conn.fetch(\n",
    "            \"\"\"\n",
    "                            WITH vector_matches AS (\n",
    "                              SELECT product_id, 1 - (embedding <=> $1) AS similarity\n",
    "                              FROM product_embeddings\n",
    "                              WHERE 1 - (embedding <=> $2) > $3\n",
    "                              ORDER BY similarity DESC\n",
    "                              LIMIT 1\n",
    "                            )\n",
    "                            SELECT description FROM products\n",
    "                            WHERE product_id IN (SELECT product_id FROM vector_matches)\n",
    "                            \"\"\",\n",
    "            qe,\n",
    "            qe,\n",
    "            similarity_threshold,\n",
    "        )\n",
    "\n",
    "        for r in results:\n",
    "            matches.append(r[\"description\"])\n",
    "\n",
    "        await conn.close()\n",
    "\n",
    "\n",
    "# Run the SQL commands now.\n",
    "await main()  # type: ignore\n",
    "\n",
    "# Show the matched product description.\n",
    "matches"
   ]
  },
  {
   "cell_type": "markdown",
   "metadata": {
    "id": "Qm-y-J6kZHS_"
   },
   "source": [
    "Step 2: Use the existing matched product description as the prompt context to generate new creative output from the LLM.\n"
   ]
  },
  {
   "cell_type": "code",
   "execution_count": 19,
   "metadata": {
    "id": "xelu9mHfocNV",
    "tags": []
   },
   "outputs": [
    {
     "data": {
      "text/markdown": [
       " Behold the all-new Roadstar bike, the perfect companion for your child's cycling adventures! Designed specifically for children, this bike boasts a sturdy frame that can withstand even the most daring escapades. Equipped with 12-20 inch training wheels, your little one can learn to ride with confidence, knowing that they have the support they need.\n",
       "\n",
       "         The Roadstar bike comes with two sets of stylish wheel decals, allowing your child to customize their ride and express their individuality. The steel brackets ensure durability, while the rubber tires provide a smooth and comfortable ride.\n",
       "\n",
       "         Safety is paramount, which is why the Roadstar"
      ],
      "text/plain": [
       "<IPython.core.display.Markdown object>"
      ]
     },
     "metadata": {},
     "output_type": "display_data"
    }
   ],
   "source": [
    "from langchain.llms import VertexAI\n",
    "from langchain import PromptTemplate, LLMChain\n",
    "from IPython.display import display, Markdown\n",
    "\n",
    "template = \"\"\"\n",
    "            You are given descriptions about some similar kind of toys in the context.\n",
    "            This context is enclosed in triple backticks (```).\n",
    "            Combine these descriptions and adapt them to match the specifications in\n",
    "            the initial prompt. All the information from the initial prompt must\n",
    "            be included. You are allowed to be as creative as possible,\n",
    "            and describe the new toy in as much detail. Your answer should be\n",
    "            less than 200 words.\n",
    "\n",
    "            Context:\n",
    "            ```{context}```\n",
    "\n",
    "            Initial Prompt:\n",
    "            {creative_prompt}\n",
    "\n",
    "            Answer:\n",
    "        \"\"\"\n",
    "\n",
    "prompt = PromptTemplate(\n",
    "    template=template, input_variables=[\"context\", \"creative_prompt\"]\n",
    ")\n",
    "\n",
    "# Increase the `temperature` to allow more creative writing freedom.\n",
    "llm = VertexAI(temperature=0.7)\n",
    "\n",
    "llm_chain = LLMChain(prompt=prompt, llm=llm)\n",
    "answer = llm_chain.run(\n",
    "    {\n",
    "        \"context\": \"\\n\".join(matches),\n",
    "        \"creative_prompt\": creative_prompt,\n",
    "    }\n",
    ")\n",
    "\n",
    "\n",
    "display(Markdown(answer))"
   ]
  },
 ],
 "metadata": {
  "colab": {
   "private_outputs": true,
   "provenance": [],
   "toc_visible": true
  },
  "environment": {
   "kernel": "python3",
   "name": "tf2-cpu.2-11.m120",
   "type": "gcloud",
   "uri": "us-docker.pkg.dev/deeplearning-platform-release/gcr.io/tf2-cpu.2-11:m120"
  },
  "kernelspec": {
   "display_name": "Python 3 (ipykernel)",
   "language": "python",
   "name": "python3"
  },
  "language_info": {
   "codemirror_mode": {
    "name": "ipython",
    "version": 3
   },
   "file_extension": ".py",
   "mimetype": "text/x-python",
   "name": "python",
   "nbconvert_exporter": "python",
   "pygments_lexer": "ipython3",
   "version": "3.9.7"
  }
 },
 "nbformat": 4,
 "nbformat_minor": 4
}
